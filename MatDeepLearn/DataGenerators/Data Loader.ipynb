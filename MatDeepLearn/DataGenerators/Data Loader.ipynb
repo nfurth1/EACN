{
 "cells": [
  {
   "cell_type": "code",
   "execution_count": 1,
   "id": "6cd9ff23",
   "metadata": {},
   "outputs": [],
   "source": [
    "import pandas as pd\n",
    "import os"
   ]
  },
  {
   "cell_type": "code",
   "execution_count": 2,
   "id": "80e2fb95",
   "metadata": {},
   "outputs": [],
   "source": [
    "def SMILESFromDf(df):\n",
    "    x = df['ids']\n",
    "    for i in range(len(x)):\n",
    "        x[i] = x[i] + '.smi' \n",
    "    \n",
    "    y = df['SMILES']\n",
    "    \n",
    "    for i in range(len(x)):\n",
    "         with open(x[i], 'a') as f:\n",
    "                f.write(y[i])       "
   ]
  },
  {
   "cell_type": "code",
   "execution_count": 3,
   "id": "f49549ee",
   "metadata": {},
   "outputs": [],
   "source": [
    "def xyzFromList(df):\n",
    "    x = df['ids']\n",
    "    for i in range(len(x)):\n",
    "        x[i] = x[i] + '.xyz'\n",
    "        \n",
    "    file = open(\"data_MMFF94.txt\", 'r')\n",
    "    Lines = file.readlines()\n",
    "    \n",
    "    ind = [None]*75\n",
    "    j = 0\n",
    "\n",
    "    for i in range(len(Lines)):\n",
    "        if(len(Lines[i]) != 0):\n",
    "            if(Lines[i][0] == \"0\" or Lines[i][0] == \"1\" or Lines[i][0] == \"2\" or Lines[i][0] == \"3\" \n",
    "               or Lines[i][0] == \"4\" or Lines[i][0] == \"5\" or Lines[i][0] == \"6\" or Lines[i][0] == \"7\" \n",
    "               or Lines[i][0] == \"8\" or Lines[i][0] == \"9\"):\n",
    "                ind[j] = i\n",
    "                j += 1\n",
    "\n",
    "    ind[74] = len(Lines)\n",
    "    \n",
    "    for i in range(len(x)):\n",
    "        for j in range(ind[i], ind[i + 1]):\n",
    "            with open(x[len(x) - i - 1], 'a') as f:\n",
    "                    f.write(Lines[j])\n",
    "        "
   ]
  },
  {
   "cell_type": "code",
   "execution_count": 6,
   "id": "3898be8d",
   "metadata": {},
   "outputs": [
    {
     "data": {
      "text/html": [
       "<div>\n",
       "<style scoped>\n",
       "    .dataframe tbody tr th:only-of-type {\n",
       "        vertical-align: middle;\n",
       "    }\n",
       "\n",
       "    .dataframe tbody tr th {\n",
       "        vertical-align: top;\n",
       "    }\n",
       "\n",
       "    .dataframe thead th {\n",
       "        text-align: right;\n",
       "    }\n",
       "</style>\n",
       "<table border=\"1\" class=\"dataframe\">\n",
       "  <thead>\n",
       "    <tr style=\"text-align: right;\">\n",
       "      <th></th>\n",
       "      <th>ids</th>\n",
       "      <th>Cc</th>\n",
       "      <th>SMILES</th>\n",
       "      <th>Ionic/Non-Ionic</th>\n",
       "    </tr>\n",
       "  </thead>\n",
       "  <tbody>\n",
       "    <tr>\n",
       "      <th>0</th>\n",
       "      <td>C6EO2</td>\n",
       "      <td>2.40</td>\n",
       "      <td>CCCCCCOCCO</td>\n",
       "      <td>Non-Ionic</td>\n",
       "    </tr>\n",
       "    <tr>\n",
       "      <th>1</th>\n",
       "      <td>C6EO3</td>\n",
       "      <td>0.10</td>\n",
       "      <td>CCCCCCOCCOCCO</td>\n",
       "      <td>Non-Ionic</td>\n",
       "    </tr>\n",
       "    <tr>\n",
       "      <th>2</th>\n",
       "      <td>C6EO4</td>\n",
       "      <td>-1.60</td>\n",
       "      <td>CCCCCCOCCOCCOCCO</td>\n",
       "      <td>Non-Ionic</td>\n",
       "    </tr>\n",
       "    <tr>\n",
       "      <th>3</th>\n",
       "      <td>C8EO3</td>\n",
       "      <td>1.80</td>\n",
       "      <td>CCCCCCCCOCCOCCO</td>\n",
       "      <td>Non-Ionic</td>\n",
       "    </tr>\n",
       "    <tr>\n",
       "      <th>4</th>\n",
       "      <td>C8EO4</td>\n",
       "      <td>0.30</td>\n",
       "      <td>CCCCCCCCOCCOCCOCCO</td>\n",
       "      <td>Non-Ionic</td>\n",
       "    </tr>\n",
       "    <tr>\n",
       "      <th>...</th>\n",
       "      <td>...</td>\n",
       "      <td>...</td>\n",
       "      <td>...</td>\n",
       "      <td>...</td>\n",
       "    </tr>\n",
       "    <tr>\n",
       "      <th>70</th>\n",
       "      <td>Ziegler C14 0PO3EO Carboxylate</td>\n",
       "      <td>-1.70</td>\n",
       "      <td>CCCCCCCCCCCCCCOCCOCCOCCC(=O)O</td>\n",
       "      <td>Non-Ionic</td>\n",
       "    </tr>\n",
       "    <tr>\n",
       "      <th>71</th>\n",
       "      <td>Sodium naphthenate</td>\n",
       "      <td>-2.40</td>\n",
       "      <td>CCC1CCC(C1)CCC(=O)[O-].[Na+]</td>\n",
       "      <td>Ionic</td>\n",
       "    </tr>\n",
       "    <tr>\n",
       "      <th>72</th>\n",
       "      <td>Dodecanol</td>\n",
       "      <td>0.20</td>\n",
       "      <td>CCCCCCCCCCCCO</td>\n",
       "      <td>Non-Ionic</td>\n",
       "    </tr>\n",
       "    <tr>\n",
       "      <th>73</th>\n",
       "      <td>810FD-5 Ethoxylate</td>\n",
       "      <td>-0.45</td>\n",
       "      <td>CCCCCCCCCOCCOCCOCCOCCOCCO</td>\n",
       "      <td>Non-Ionic</td>\n",
       "    </tr>\n",
       "    <tr>\n",
       "      <th>74</th>\n",
       "      <td>AMA</td>\n",
       "      <td>-0.93</td>\n",
       "      <td>CC(=C)C(=O)OCC=C</td>\n",
       "      <td>Non-Ionic</td>\n",
       "    </tr>\n",
       "  </tbody>\n",
       "</table>\n",
       "<p>75 rows × 4 columns</p>\n",
       "</div>"
      ],
      "text/plain": [
       "                               ids    Cc                          SMILES  \\\n",
       "0                            C6EO2  2.40                      CCCCCCOCCO   \n",
       "1                            C6EO3  0.10                   CCCCCCOCCOCCO   \n",
       "2                            C6EO4 -1.60                CCCCCCOCCOCCOCCO   \n",
       "3                            C8EO3  1.80                 CCCCCCCCOCCOCCO   \n",
       "4                            C8EO4  0.30              CCCCCCCCOCCOCCOCCO   \n",
       "..                             ...   ...                             ...   \n",
       "70  Ziegler C14 0PO3EO Carboxylate -1.70   CCCCCCCCCCCCCCOCCOCCOCCC(=O)O   \n",
       "71              Sodium naphthenate -2.40  CCC1CCC(C1)CCC(=O)[O-].[Na+]     \n",
       "72                       Dodecanol  0.20                 CCCCCCCCCCCCO     \n",
       "73              810FD-5 Ethoxylate -0.45       CCCCCCCCCOCCOCCOCCOCCOCCO   \n",
       "74                             AMA -0.93                CC(=C)C(=O)OCC=C   \n",
       "\n",
       "   Ionic/Non-Ionic  \n",
       "0        Non-Ionic  \n",
       "1        Non-Ionic  \n",
       "2        Non-Ionic  \n",
       "3        Non-Ionic  \n",
       "4        Non-Ionic  \n",
       "..             ...  \n",
       "70       Non-Ionic  \n",
       "71           Ionic  \n",
       "72       Non-Ionic  \n",
       "73       Non-Ionic  \n",
       "74       Non-Ionic  \n",
       "\n",
       "[75 rows x 4 columns]"
      ]
     },
     "execution_count": 6,
     "metadata": {},
     "output_type": "execute_result"
    }
   ],
   "source": [
    "df = pd.read_csv('data.csv')\n",
    "df\n"
   ]
  },
  {
   "cell_type": "code",
   "execution_count": 7,
   "id": "788fa5ba",
   "metadata": {},
   "outputs": [
    {
     "name": "stderr",
     "output_type": "stream",
     "text": [
      "C:\\Users\\Nick\\anaconda3\\envs\\MatDeepLearn\\lib\\site-packages\\ipykernel_launcher.py:4: SettingWithCopyWarning: \n",
      "A value is trying to be set on a copy of a slice from a DataFrame\n",
      "\n",
      "See the caveats in the documentation: https://pandas.pydata.org/pandas-docs/stable/user_guide/indexing.html#returning-a-view-versus-a-copy\n",
      "  after removing the cwd from sys.path.\n"
     ]
    },
    {
     "ename": "OSError",
     "evalue": "[Errno 22] Invalid argument: 'Rhamnolipid 50:50 R1:R2.smi'",
     "output_type": "error",
     "traceback": [
      "\u001b[1;31m---------------------------------------------------------------------------\u001b[0m",
      "\u001b[1;31mOSError\u001b[0m                                   Traceback (most recent call last)",
      "\u001b[1;32m~\\AppData\\Local\\Temp\\ipykernel_16704\\1591788664.py\u001b[0m in \u001b[0;36m<module>\u001b[1;34m\u001b[0m\n\u001b[1;32m----> 1\u001b[1;33m \u001b[0mSMILESFromDf\u001b[0m\u001b[1;33m(\u001b[0m\u001b[0mdf\u001b[0m\u001b[1;33m)\u001b[0m\u001b[1;33m\u001b[0m\u001b[1;33m\u001b[0m\u001b[0m\n\u001b[0m",
      "\u001b[1;32m~\\AppData\\Local\\Temp\\ipykernel_16704\\8265651.py\u001b[0m in \u001b[0;36mSMILESFromDf\u001b[1;34m(df)\u001b[0m\n\u001b[0;32m      7\u001b[0m \u001b[1;33m\u001b[0m\u001b[0m\n\u001b[0;32m      8\u001b[0m     \u001b[1;32mfor\u001b[0m \u001b[0mi\u001b[0m \u001b[1;32min\u001b[0m \u001b[0mrange\u001b[0m\u001b[1;33m(\u001b[0m\u001b[0mlen\u001b[0m\u001b[1;33m(\u001b[0m\u001b[0mx\u001b[0m\u001b[1;33m)\u001b[0m\u001b[1;33m)\u001b[0m\u001b[1;33m:\u001b[0m\u001b[1;33m\u001b[0m\u001b[1;33m\u001b[0m\u001b[0m\n\u001b[1;32m----> 9\u001b[1;33m          \u001b[1;32mwith\u001b[0m \u001b[0mopen\u001b[0m\u001b[1;33m(\u001b[0m\u001b[0mx\u001b[0m\u001b[1;33m[\u001b[0m\u001b[0mi\u001b[0m\u001b[1;33m]\u001b[0m\u001b[1;33m,\u001b[0m \u001b[1;34m'a'\u001b[0m\u001b[1;33m)\u001b[0m \u001b[1;32mas\u001b[0m \u001b[0mf\u001b[0m\u001b[1;33m:\u001b[0m\u001b[1;33m\u001b[0m\u001b[1;33m\u001b[0m\u001b[0m\n\u001b[0m\u001b[0;32m     10\u001b[0m                 \u001b[0mf\u001b[0m\u001b[1;33m.\u001b[0m\u001b[0mwrite\u001b[0m\u001b[1;33m(\u001b[0m\u001b[0my\u001b[0m\u001b[1;33m[\u001b[0m\u001b[0mi\u001b[0m\u001b[1;33m]\u001b[0m\u001b[1;33m)\u001b[0m\u001b[1;33m\u001b[0m\u001b[1;33m\u001b[0m\u001b[0m\n",
      "\u001b[1;31mOSError\u001b[0m: [Errno 22] Invalid argument: 'Rhamnolipid 50:50 R1:R2.smi'"
     ]
    }
   ],
   "source": [
    "SMILESFromDf(df)"
   ]
  },
  {
   "cell_type": "code",
   "execution_count": 8,
   "id": "4ff892ae",
   "metadata": {},
   "outputs": [
    {
     "name": "stderr",
     "output_type": "stream",
     "text": [
      "C:\\Users\\Nick\\anaconda3\\envs\\MatDeepLearn\\lib\\site-packages\\ipykernel_launcher.py:4: SettingWithCopyWarning: \n",
      "A value is trying to be set on a copy of a slice from a DataFrame\n",
      "\n",
      "See the caveats in the documentation: https://pandas.pydata.org/pandas-docs/stable/user_guide/indexing.html#returning-a-view-versus-a-copy\n",
      "  after removing the cwd from sys.path.\n"
     ]
    },
    {
     "ename": "FileNotFoundError",
     "evalue": "[Errno 2] No such file or directory: 'data_MMFF94.txt'",
     "output_type": "error",
     "traceback": [
      "\u001b[1;31m---------------------------------------------------------------------------\u001b[0m",
      "\u001b[1;31mFileNotFoundError\u001b[0m                         Traceback (most recent call last)",
      "\u001b[1;32m~\\AppData\\Local\\Temp\\ipykernel_16704\\1440357884.py\u001b[0m in \u001b[0;36m<module>\u001b[1;34m\u001b[0m\n\u001b[0;32m      1\u001b[0m \u001b[0mdf\u001b[0m \u001b[1;33m=\u001b[0m \u001b[0mpd\u001b[0m\u001b[1;33m.\u001b[0m\u001b[0mread_csv\u001b[0m\u001b[1;33m(\u001b[0m\u001b[1;34m'targets.csv'\u001b[0m\u001b[1;33m)\u001b[0m\u001b[1;33m\u001b[0m\u001b[1;33m\u001b[0m\u001b[0m\n\u001b[0;32m      2\u001b[0m \u001b[1;33m\u001b[0m\u001b[0m\n\u001b[1;32m----> 3\u001b[1;33m \u001b[0mxyzFromList\u001b[0m\u001b[1;33m(\u001b[0m\u001b[0mdf\u001b[0m\u001b[1;33m)\u001b[0m\u001b[1;33m\u001b[0m\u001b[1;33m\u001b[0m\u001b[0m\n\u001b[0m",
      "\u001b[1;32m~\\AppData\\Local\\Temp\\ipykernel_16704\\3281365834.py\u001b[0m in \u001b[0;36mxyzFromList\u001b[1;34m(df)\u001b[0m\n\u001b[0;32m      4\u001b[0m         \u001b[0mx\u001b[0m\u001b[1;33m[\u001b[0m\u001b[0mi\u001b[0m\u001b[1;33m]\u001b[0m \u001b[1;33m=\u001b[0m \u001b[0mx\u001b[0m\u001b[1;33m[\u001b[0m\u001b[0mi\u001b[0m\u001b[1;33m]\u001b[0m \u001b[1;33m+\u001b[0m \u001b[1;34m'.xyz'\u001b[0m\u001b[1;33m\u001b[0m\u001b[1;33m\u001b[0m\u001b[0m\n\u001b[0;32m      5\u001b[0m \u001b[1;33m\u001b[0m\u001b[0m\n\u001b[1;32m----> 6\u001b[1;33m     \u001b[0mfile\u001b[0m \u001b[1;33m=\u001b[0m \u001b[0mopen\u001b[0m\u001b[1;33m(\u001b[0m\u001b[1;34m\"data_MMFF94.txt\"\u001b[0m\u001b[1;33m,\u001b[0m \u001b[1;34m'r'\u001b[0m\u001b[1;33m)\u001b[0m\u001b[1;33m\u001b[0m\u001b[1;33m\u001b[0m\u001b[0m\n\u001b[0m\u001b[0;32m      7\u001b[0m     \u001b[0mLines\u001b[0m \u001b[1;33m=\u001b[0m \u001b[0mfile\u001b[0m\u001b[1;33m.\u001b[0m\u001b[0mreadlines\u001b[0m\u001b[1;33m(\u001b[0m\u001b[1;33m)\u001b[0m\u001b[1;33m\u001b[0m\u001b[1;33m\u001b[0m\u001b[0m\n\u001b[0;32m      8\u001b[0m \u001b[1;33m\u001b[0m\u001b[0m\n",
      "\u001b[1;31mFileNotFoundError\u001b[0m: [Errno 2] No such file or directory: 'data_MMFF94.txt'"
     ]
    }
   ],
   "source": [
    "df = pd.read_csv('targets.csv')\n",
    "\n",
    "xyzFromList(df)"
   ]
  },
  {
   "cell_type": "code",
   "execution_count": null,
   "id": "aebce220",
   "metadata": {},
   "outputs": [],
   "source": [
    "xyzFromList(df)"
   ]
  },
  {
   "cell_type": "code",
   "execution_count": null,
   "id": "12fce2ba",
   "metadata": {},
   "outputs": [],
   "source": []
  }
 ],
 "metadata": {
  "kernelspec": {
   "display_name": "Python 3 (ipykernel)",
   "language": "python",
   "name": "python3"
  },
  "language_info": {
   "codemirror_mode": {
    "name": "ipython",
    "version": 3
   },
   "file_extension": ".py",
   "mimetype": "text/x-python",
   "name": "python",
   "nbconvert_exporter": "python",
   "pygments_lexer": "ipython3",
   "version": "3.7.13"
  }
 },
 "nbformat": 4,
 "nbformat_minor": 5
}
